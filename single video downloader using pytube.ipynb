{
 "cells": [
  {
   "cell_type": "code",
   "execution_count": 46,
   "id": "bfdef8a8",
   "metadata": {},
   "outputs": [],
   "source": [
    "import pytube"
   ]
  },
  {
   "cell_type": "code",
   "execution_count": 47,
   "id": "498670dc",
   "metadata": {},
   "outputs": [],
   "source": [
    "from pytube import Playlist\n",
    "from pytube import YouTube"
   ]
  },
  {
   "cell_type": "code",
   "execution_count": 48,
   "id": "f1925f22",
   "metadata": {},
   "outputs": [
    {
     "data": {
      "text/plain": [
       "'C:\\\\Users\\\\gguglani\\\\Step By Steps Tutorial To Create Conversational Q&A Chatbot Using Gemini Pro Free API.mp4'"
      ]
     },
     "execution_count": 48,
     "metadata": {},
     "output_type": "execute_result"
    }
   ],
   "source": [
    "# Create a YouTube object\n",
    "yt = YouTube('https://www.youtube.com/watch?v=o4ZhXSVuPyc')\n",
    "\n",
    "# Select the highest quality video\n",
    "stream = yt.streams.get_highest_resolution()\n",
    "\n",
    "# Download the video\n",
    "stream.download()"
   ]
  }
 ],
 "metadata": {
  "kernelspec": {
   "display_name": "Python 3 (ipykernel)",
   "language": "python",
   "name": "python3"
  },
  "language_info": {
   "codemirror_mode": {
    "name": "ipython",
    "version": 3
   },
   "file_extension": ".py",
   "mimetype": "text/x-python",
   "name": "python",
   "nbconvert_exporter": "python",
   "pygments_lexer": "ipython3",
   "version": "3.9.12"
  }
 },
 "nbformat": 4,
 "nbformat_minor": 5
}
