{
 "cells": [
  {
   "cell_type": "code",
   "execution_count": 1,
   "id": "bfdef8a8",
   "metadata": {},
   "outputs": [],
   "source": [
    "import pytube"
   ]
  },
  {
   "cell_type": "code",
   "execution_count": 1,
   "id": "fb2e0880",
   "metadata": {},
   "outputs": [],
   "source": [
    "from pytube import Playlist"
   ]
  },
  {
   "cell_type": "code",
   "execution_count": 15,
   "id": "36a499f1",
   "metadata": {},
   "outputs": [],
   "source": [
    "p = Playlist('https://www.youtube.com/playlist?list=PLMCXHnjXnTnvo6alSjVkgxV-VH6EPyvoX')"
   ]
  },
  {
   "cell_type": "code",
   "execution_count": 21,
   "id": "7812bec0",
   "metadata": {},
   "outputs": [
    {
     "name": "stdout",
     "output_type": "stream",
     "text": [
      "https://www.youtube.com/watch?v=xpDnVSmNFX0\n",
      "https://www.youtube.com/watch?v=SqcXvc3ZmRU\n",
      "https://www.youtube.com/watch?v=K0Ta65OqQkY\n",
      "https://www.youtube.com/watch?v=zaRkONvyGr8\n",
      "https://www.youtube.com/watch?v=oUJbuFMyBDk\n"
     ]
    }
   ],
   "source": [
    "for url in p.video_urls[:5]:\n",
    "    print(url)"
   ]
  },
  {
   "cell_type": "code",
   "execution_count": 17,
   "id": "1b141fb5",
   "metadata": {},
   "outputs": [
    {
     "name": "stdout",
     "output_type": "stream",
     "text": [
      "Downloading: System Design for Beginners\n"
     ]
    }
   ],
   "source": [
    "print(f'Downloading: {p.title}')\n"
   ]
  },
  {
   "cell_type": "code",
   "execution_count": 18,
   "id": "a77349c0",
   "metadata": {},
   "outputs": [],
   "source": [
    "for video in p.videos:\n",
    "    video.streams.first().download()"
   ]
  },
  {
   "cell_type": "code",
   "execution_count": 22,
   "id": "566fa129",
   "metadata": {},
   "outputs": [
    {
     "data": {
      "text/plain": [
       "'C:\\\\Users\\\\gguglani'"
      ]
     },
     "execution_count": 22,
     "metadata": {},
     "output_type": "execute_result"
    }
   ],
   "source": [
    "#to kno where your files are saved\n",
    "pwd"
   ]
  },
  {
   "cell_type": "code",
   "execution_count": null,
   "id": "a5c4ba7a",
   "metadata": {},
   "outputs": [],
   "source": []
  }
 ],
 "metadata": {
  "kernelspec": {
   "display_name": "Python 3 (ipykernel)",
   "language": "python",
   "name": "python3"
  },
  "language_info": {
   "codemirror_mode": {
    "name": "ipython",
    "version": 3
   },
   "file_extension": ".py",
   "mimetype": "text/x-python",
   "name": "python",
   "nbconvert_exporter": "python",
   "pygments_lexer": "ipython3",
   "version": "3.9.12"
  }
 },
 "nbformat": 4,
 "nbformat_minor": 5
}
